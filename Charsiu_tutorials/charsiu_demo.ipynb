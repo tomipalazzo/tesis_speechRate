{
 "cells": [
  {
   "cell_type": "code",
   "execution_count": 1,
   "metadata": {
    "colab": {
     "base_uri": "https://localhost:8080/"
    },
    "id": "0zxKOeyTROc2",
    "outputId": "688bf73f-176f-47c1-ec79-f9bf59166d5c"
   },
   "outputs": [
    {
     "name": "stdout",
     "output_type": "stream",
     "text": [
      "Defaulting to user installation because normal site-packages is not writeable\n",
      "Requirement already satisfied: torch in /home/tomi/.local/lib/python3.10/site-packages (2.1.2+cu118)\n",
      "Requirement already satisfied: torchvision in /home/tomi/.local/lib/python3.10/site-packages (0.16.2+cu118)\n",
      "Requirement already satisfied: torchaudio in /home/tomi/.local/lib/python3.10/site-packages (2.1.2+cu118)\n",
      "Requirement already satisfied: filelock in /home/tomi/.local/lib/python3.10/site-packages (from torch) (3.9.0)\n",
      "Requirement already satisfied: typing-extensions in /home/tomi/.local/lib/python3.10/site-packages (from torch) (4.9.0)\n",
      "Requirement already satisfied: sympy in /usr/lib/python3/dist-packages (from torch) (1.9)\n",
      "Requirement already satisfied: networkx in /home/tomi/.local/lib/python3.10/site-packages (from torch) (3.3)\n",
      "Requirement already satisfied: jinja2 in /home/tomi/.local/lib/python3.10/site-packages (from torch) (3.1.3)\n",
      "Requirement already satisfied: fsspec in /home/tomi/.local/lib/python3.10/site-packages (from torch) (2024.2.0)\n",
      "Requirement already satisfied: triton==2.1.0 in /home/tomi/.local/lib/python3.10/site-packages (from torch) (2.1.0)\n",
      "Requirement already satisfied: numpy in /home/tomi/.local/lib/python3.10/site-packages (from torchvision) (1.26.4)\n",
      "Requirement already satisfied: requests in /home/tomi/.local/lib/python3.10/site-packages (from torchvision) (2.31.0)\n",
      "Requirement already satisfied: pillow!=8.3.*,>=5.3.0 in /usr/lib/python3/dist-packages (from torchvision) (9.0.1)\n",
      "Requirement already satisfied: MarkupSafe>=2.0 in /home/tomi/.local/lib/python3.10/site-packages (from jinja2->torch) (2.1.4)\n",
      "Requirement already satisfied: charset-normalizer<4,>=2 in /home/tomi/.local/lib/python3.10/site-packages (from requests->torchvision) (3.3.2)\n",
      "Requirement already satisfied: idna<4,>=2.5 in /usr/lib/python3/dist-packages (from requests->torchvision) (3.3)\n",
      "Requirement already satisfied: urllib3<3,>=1.21.1 in /usr/lib/python3/dist-packages (from requests->torchvision) (1.26.5)\n",
      "Requirement already satisfied: certifi>=2017.4.17 in /usr/lib/python3/dist-packages (from requests->torchvision) (2020.6.20)\n",
      "Defaulting to user installation because normal site-packages is not writeable\n",
      "Requirement already satisfied: datasets in /home/tomi/.local/lib/python3.10/site-packages (2.18.0)\n",
      "Requirement already satisfied: transformers in /home/tomi/.local/lib/python3.10/site-packages (4.39.1)\n",
      "Requirement already satisfied: filelock in /home/tomi/.local/lib/python3.10/site-packages (from datasets) (3.9.0)\n",
      "Requirement already satisfied: numpy>=1.17 in /home/tomi/.local/lib/python3.10/site-packages (from datasets) (1.26.4)\n",
      "Requirement already satisfied: pyarrow>=12.0.0 in /home/tomi/.local/lib/python3.10/site-packages (from datasets) (15.0.0)\n",
      "Requirement already satisfied: pyarrow-hotfix in /home/tomi/.local/lib/python3.10/site-packages (from datasets) (0.6)\n",
      "Requirement already satisfied: dill<0.3.9,>=0.3.0 in /home/tomi/.local/lib/python3.10/site-packages (from datasets) (0.3.8)\n",
      "Requirement already satisfied: pandas in /home/tomi/.local/lib/python3.10/site-packages (from datasets) (2.2.0)\n",
      "Requirement already satisfied: requests>=2.19.0 in /home/tomi/.local/lib/python3.10/site-packages (from datasets) (2.31.0)\n",
      "Requirement already satisfied: tqdm>=4.62.1 in /home/tomi/.local/lib/python3.10/site-packages (from datasets) (4.66.2)\n",
      "Requirement already satisfied: xxhash in /home/tomi/.local/lib/python3.10/site-packages (from datasets) (3.4.1)\n",
      "Requirement already satisfied: multiprocess in /home/tomi/.local/lib/python3.10/site-packages (from datasets) (0.70.16)\n",
      "Requirement already satisfied: fsspec<=2024.2.0,>=2023.1.0 in /home/tomi/.local/lib/python3.10/site-packages (from fsspec[http]<=2024.2.0,>=2023.1.0->datasets) (2024.2.0)\n",
      "Requirement already satisfied: aiohttp in /home/tomi/.local/lib/python3.10/site-packages (from datasets) (3.9.3)\n",
      "Requirement already satisfied: huggingface-hub>=0.19.4 in /home/tomi/.local/lib/python3.10/site-packages (from datasets) (0.22.0)\n",
      "Requirement already satisfied: packaging in /home/tomi/.local/lib/python3.10/site-packages (from datasets) (23.2)\n",
      "Requirement already satisfied: pyyaml>=5.1 in /usr/lib/python3/dist-packages (from datasets) (5.4.1)\n",
      "Requirement already satisfied: regex!=2019.12.17 in /home/tomi/.local/lib/python3.10/site-packages (from transformers) (2023.12.25)\n",
      "Requirement already satisfied: tokenizers<0.19,>=0.14 in /home/tomi/.local/lib/python3.10/site-packages (from transformers) (0.15.2)\n",
      "Requirement already satisfied: safetensors>=0.4.1 in /home/tomi/.local/lib/python3.10/site-packages (from transformers) (0.4.2)\n",
      "Requirement already satisfied: aiosignal>=1.1.2 in /home/tomi/.local/lib/python3.10/site-packages (from aiohttp->datasets) (1.3.1)\n",
      "Requirement already satisfied: attrs>=17.3.0 in /home/tomi/.local/lib/python3.10/site-packages (from aiohttp->datasets) (23.2.0)\n",
      "Requirement already satisfied: frozenlist>=1.1.1 in /home/tomi/.local/lib/python3.10/site-packages (from aiohttp->datasets) (1.4.1)\n",
      "Requirement already satisfied: multidict<7.0,>=4.5 in /home/tomi/.local/lib/python3.10/site-packages (from aiohttp->datasets) (6.0.5)\n",
      "Requirement already satisfied: yarl<2.0,>=1.0 in /home/tomi/.local/lib/python3.10/site-packages (from aiohttp->datasets) (1.9.4)\n",
      "Requirement already satisfied: async-timeout<5.0,>=4.0 in /home/tomi/.local/lib/python3.10/site-packages (from aiohttp->datasets) (4.0.3)\n",
      "Requirement already satisfied: typing-extensions>=3.7.4.3 in /home/tomi/.local/lib/python3.10/site-packages (from huggingface-hub>=0.19.4->datasets) (4.9.0)\n",
      "Requirement already satisfied: charset-normalizer<4,>=2 in /home/tomi/.local/lib/python3.10/site-packages (from requests>=2.19.0->datasets) (3.3.2)\n",
      "Requirement already satisfied: idna<4,>=2.5 in /usr/lib/python3/dist-packages (from requests>=2.19.0->datasets) (3.3)\n",
      "Requirement already satisfied: urllib3<3,>=1.21.1 in /usr/lib/python3/dist-packages (from requests>=2.19.0->datasets) (1.26.5)\n",
      "Requirement already satisfied: certifi>=2017.4.17 in /usr/lib/python3/dist-packages (from requests>=2.19.0->datasets) (2020.6.20)\n",
      "Requirement already satisfied: python-dateutil>=2.8.2 in /home/tomi/.local/lib/python3.10/site-packages (from pandas->datasets) (2.8.2)\n",
      "Requirement already satisfied: pytz>=2020.1 in /usr/lib/python3/dist-packages (from pandas->datasets) (2022.1)\n",
      "Requirement already satisfied: tzdata>=2022.7 in /home/tomi/.local/lib/python3.10/site-packages (from pandas->datasets) (2023.4)\n",
      "Requirement already satisfied: six>=1.5 in /usr/lib/python3/dist-packages (from python-dateutil>=2.8.2->pandas->datasets) (1.16.0)\n",
      "Defaulting to user installation because normal site-packages is not writeable\n",
      "Requirement already satisfied: g2p_en in /home/tomi/.local/lib/python3.10/site-packages (2.1.0)\n",
      "Requirement already satisfied: praatio in /home/tomi/.local/lib/python3.10/site-packages (6.2.0)\n",
      "Requirement already satisfied: librosa in /home/tomi/.local/lib/python3.10/site-packages (0.10.1)\n",
      "Requirement already satisfied: numpy>=1.13.1 in /home/tomi/.local/lib/python3.10/site-packages (from g2p_en) (1.26.4)\n",
      "Requirement already satisfied: nltk>=3.2.4 in /home/tomi/.local/lib/python3.10/site-packages (from g2p_en) (3.8.1)\n",
      "Requirement already satisfied: inflect>=0.3.1 in /home/tomi/.local/lib/python3.10/site-packages (from g2p_en) (7.0.0)\n",
      "Requirement already satisfied: distance>=0.1.3 in /home/tomi/.local/lib/python3.10/site-packages (from g2p_en) (0.1.3)\n",
      "Requirement already satisfied: typing-extensions in /home/tomi/.local/lib/python3.10/site-packages (from praatio) (4.9.0)\n",
      "Requirement already satisfied: audioread>=2.1.9 in /home/tomi/.local/lib/python3.10/site-packages (from librosa) (3.0.1)\n",
      "Requirement already satisfied: scipy>=1.2.0 in /usr/lib/python3/dist-packages (from librosa) (1.8.0)\n",
      "Requirement already satisfied: scikit-learn>=0.20.0 in /home/tomi/.local/lib/python3.10/site-packages (from librosa) (1.4.0)\n",
      "Requirement already satisfied: joblib>=0.14 in /home/tomi/.local/lib/python3.10/site-packages (from librosa) (1.3.2)\n",
      "Requirement already satisfied: decorator>=4.3.0 in /home/tomi/.local/lib/python3.10/site-packages (from librosa) (5.1.1)\n",
      "Requirement already satisfied: numba>=0.51.0 in /home/tomi/.local/lib/python3.10/site-packages (from librosa) (0.59.1)\n",
      "Requirement already satisfied: soundfile>=0.12.1 in /home/tomi/.local/lib/python3.10/site-packages (from librosa) (0.12.1)\n",
      "Requirement already satisfied: pooch>=1.0 in /home/tomi/.local/lib/python3.10/site-packages (from librosa) (1.8.1)\n",
      "Requirement already satisfied: soxr>=0.3.2 in /home/tomi/.local/lib/python3.10/site-packages (from librosa) (0.3.7)\n",
      "Requirement already satisfied: lazy-loader>=0.1 in /home/tomi/.local/lib/python3.10/site-packages (from librosa) (0.3)\n",
      "Requirement already satisfied: msgpack>=1.0 in /usr/lib/python3/dist-packages (from librosa) (1.0.3)\n",
      "Requirement already satisfied: pydantic>=1.9.1 in /home/tomi/.local/lib/python3.10/site-packages (from inflect>=0.3.1->g2p_en) (2.6.4)\n",
      "Requirement already satisfied: click in /usr/lib/python3/dist-packages (from nltk>=3.2.4->g2p_en) (8.0.3)\n",
      "Requirement already satisfied: regex>=2021.8.3 in /home/tomi/.local/lib/python3.10/site-packages (from nltk>=3.2.4->g2p_en) (2023.12.25)\n",
      "Requirement already satisfied: tqdm in /home/tomi/.local/lib/python3.10/site-packages (from nltk>=3.2.4->g2p_en) (4.66.2)\n",
      "Requirement already satisfied: llvmlite<0.43,>=0.42.0dev0 in /home/tomi/.local/lib/python3.10/site-packages (from numba>=0.51.0->librosa) (0.42.0)\n",
      "Requirement already satisfied: platformdirs>=2.5.0 in /home/tomi/.local/lib/python3.10/site-packages (from pooch>=1.0->librosa) (4.1.0)\n",
      "Requirement already satisfied: packaging>=20.0 in /home/tomi/.local/lib/python3.10/site-packages (from pooch>=1.0->librosa) (23.2)\n",
      "Requirement already satisfied: requests>=2.19.0 in /home/tomi/.local/lib/python3.10/site-packages (from pooch>=1.0->librosa) (2.31.0)\n",
      "Requirement already satisfied: threadpoolctl>=2.0.0 in /home/tomi/.local/lib/python3.10/site-packages (from scikit-learn>=0.20.0->librosa) (3.2.0)\n",
      "Requirement already satisfied: cffi>=1.0 in /home/tomi/.local/lib/python3.10/site-packages (from soundfile>=0.12.1->librosa) (1.16.0)\n",
      "Requirement already satisfied: pycparser in /home/tomi/.local/lib/python3.10/site-packages (from cffi>=1.0->soundfile>=0.12.1->librosa) (2.21)\n",
      "Requirement already satisfied: annotated-types>=0.4.0 in /home/tomi/.local/lib/python3.10/site-packages (from pydantic>=1.9.1->inflect>=0.3.1->g2p_en) (0.6.0)\n",
      "Requirement already satisfied: pydantic-core==2.16.3 in /home/tomi/.local/lib/python3.10/site-packages (from pydantic>=1.9.1->inflect>=0.3.1->g2p_en) (2.16.3)\n",
      "Requirement already satisfied: charset-normalizer<4,>=2 in /home/tomi/.local/lib/python3.10/site-packages (from requests>=2.19.0->pooch>=1.0->librosa) (3.3.2)\n",
      "Requirement already satisfied: idna<4,>=2.5 in /usr/lib/python3/dist-packages (from requests>=2.19.0->pooch>=1.0->librosa) (3.3)\n",
      "Requirement already satisfied: urllib3<3,>=1.21.1 in /usr/lib/python3/dist-packages (from requests>=2.19.0->pooch>=1.0->librosa) (1.26.5)\n",
      "Requirement already satisfied: certifi>=2017.4.17 in /usr/lib/python3/dist-packages (from requests>=2.19.0->pooch>=1.0->librosa) (2020.6.20)\n"
     ]
    }
   ],
   "source": [
    "!pip install torch torchvision torchaudio\n",
    "!pip install datasets transformers\n",
    "!pip install g2p_en praatio librosa"
   ]
  },
  {
   "cell_type": "code",
   "execution_count": 2,
   "metadata": {
    "colab": {
     "base_uri": "https://localhost:8080/"
    },
    "id": "DIROcsj7Rv4g",
    "outputId": "f6b7e588-aa6f-4a2b-f224-1da7715e3d5b"
   },
   "outputs": [
    {
     "name": "stdout",
     "output_type": "stream",
     "text": [
      "Cloning into 'charsiu'...\n",
      "remote: Enumerating objects: 686, done.\u001b[K\n",
      "remote: Counting objects: 100% (131/131), done.\u001b[K\n",
      "remote: Compressing objects: 100% (52/52), done.\u001b[K\n",
      "remote: Total 686 (delta 110), reused 79 (delta 79), pack-reused 555\u001b[K\n",
      "Receiving objects: 100% (686/686), 1.20 MiB | 630.00 KiB/s, done.\n",
      "Resolving deltas: 100% (364/364), done.\n",
      "Your branch is up to date with 'origin/development'.\n",
      "/home/tomi\n"
     ]
    }
   ],
   "source": [
    "import os\n",
    "from os.path import exists, join, expanduser\n",
    "\n",
    "os.chdir(expanduser(\"~\"))\n",
    "charsiu_dir = 'charsiu'\n",
    "if exists(charsiu_dir):\n",
    "  !rm -rf /root/charsiu\n",
    "if not exists(charsiu_dir):\n",
    "  ! git clone -b development https://github.com/lingjzhu/$charsiu_dir\n",
    "  ! cd charsiu && git checkout && cd -\n",
    "\n",
    "os.chdir(charsiu_dir)"
   ]
  },
  {
   "cell_type": "code",
   "execution_count": 3,
   "metadata": {
    "colab": {
     "base_uri": "https://localhost:8080/"
    },
    "id": "b4D9QI72wH17",
    "outputId": "3151f1d8-4fbc-4757-ac7d-ea3f70e64d00"
   },
   "outputs": [
    {
     "name": "stdout",
     "output_type": "stream",
     "text": [
      "Defaulting to user installation because normal site-packages is not writeable\n",
      "Requirement already satisfied: g2pM in /home/tomi/.local/lib/python3.10/site-packages (0.1.2.5)\n",
      "Note: you may need to restart the kernel to use updated packages.\n"
     ]
    }
   ],
   "source": [
    "pip install g2pM"
   ]
  },
  {
   "cell_type": "code",
   "execution_count": 6,
   "metadata": {
    "id": "GmHNb4OxRVD8"
   },
   "outputs": [],
   "source": [
    "import sys\n",
    "import torch\n",
    "from datasets import load_dataset\n",
    "import matplotlib.pyplot as plt\n",
    "sys.path.append('src/')\n",
    "#sys.path.insert(0,'src')\n",
    "from Charsiu import charsiu_forced_aligner, charsiu_attention_aligner"
   ]
  },
  {
   "cell_type": "code",
   "execution_count": 7,
   "metadata": {
    "colab": {
     "base_uri": "https://localhost:8080/",
     "height": 631,
     "referenced_widgets": [
      "cbf749323af54b41965943b02a2c6497",
      "e2eb591eaf514c7eaee4dc93d2183387",
      "c1654ee4c39f429a9d06c03538f0dc93",
      "165431e8957f43338a95bdb22e4e2745",
      "8ffda97b40bc44089a2ab563086aa177",
      "0c2ebf095c9a449896681d3f2d18c11e",
      "734d92b908a64a14ae486cd91050ef1d",
      "1de652c332544547a4e5790f1feb22b7",
      "03c10bce11b24199833099122601ce68",
      "bfef77de981c45719b8c8b37f3b0cbda",
      "0a544d85032c44b29683be865ce1ba24",
      "ec6f4d1ab83e47f7b4c2566578178685",
      "192425a27ae545beb5300af3cdd061f1",
      "1cd6049cd2254572b6a3e80b5e511efa",
      "25fd551329944bdda0570551321f9942",
      "1b6caf6776024783815897209d968de1",
      "395a3bd1d8ec43db869ce38353a8904a",
      "41280db548474a93bf45f1ee67b9f4eb",
      "d89067f3c369456cac8f9787038c91e6",
      "8be3a21c1dd2473ca2b3c52c4994d05f",
      "34ad1dfeb5374a2f99eed6626e217b05",
      "dd451965293b4064a3bea9ea1a181c8a"
     ]
    },
    "id": "N2wZBRx_WOfv",
    "outputId": "2a9112a7-7f3c-4010-a229-f41ba12c0acf"
   },
   "outputs": [
    {
     "name": "stderr",
     "output_type": "stream",
     "text": [
      "/home/tomi/.local/lib/python3.10/site-packages/datasets/load.py:1461: FutureWarning: The repository for timit_asr contains custom code which must be executed to correctly load the dataset. You can inspect the repository content at https://hf.co/datasets/timit_asr\n",
      "You can avoid this message in future by passing the argument `trust_remote_code=True`.\n",
      "Passing `trust_remote_code=True` will be mandatory to load this dataset from the next major release of `datasets`.\n",
      "  warnings.warn(\n"
     ]
    }
   ],
   "source": [
    "timit = load_dataset('timit_asr', data_dir='/home/tomi/Documents/tesis_speechRate/timit')\n"
   ]
  },
  {
   "cell_type": "code",
   "execution_count": 8,
   "metadata": {
    "colab": {
     "base_uri": "https://localhost:8080/"
    },
    "id": "kBzpi5mSjiyL",
    "outputId": "bb57f11a-5ebd-45c5-f593-89253b77151a"
   },
   "outputs": [
    {
     "name": "stdout",
     "output_type": "stream",
     "text": [
      "Text transcription:She had your dark suit in greasy wash water all year.\n",
      "Audio path: /home/tomi/Documents/tesis_speechRate/timit/data/TRAIN/DR1/FCJF0/SA1.WAV\n"
     ]
    }
   ],
   "source": [
    "# load data\n",
    "sample = timit['train'][0]\n",
    "text = sample['text']\n",
    "audio_path = sample['file']\n",
    "print('Text transcription:%s'%(text))\n",
    "print('Audio path: %s'%audio_path)"
   ]
  },
  {
   "cell_type": "code",
   "execution_count": 9,
   "metadata": {
    "colab": {
     "base_uri": "https://localhost:8080/"
    },
    "id": "q7paWfYdROc5",
    "outputId": "d494e91a-863d-4ca5-f9bb-e8c3160d3543"
   },
   "outputs": [
    {
     "name": "stderr",
     "output_type": "stream",
     "text": [
      "/home/tomi/.local/lib/python3.10/site-packages/transformers/configuration_utils.py:363: UserWarning: Passing `gradient_checkpointing` to a config initialization is deprecated and will be removed in v5 Transformers. Using `model.gradient_checkpointing_enable()` instead, or if you are using the `Trainer` API, pass `gradient_checkpointing=True` in your `TrainingArguments`.\n",
      "  warnings.warn(\n",
      "/home/tomi/.local/lib/python3.10/site-packages/torch/_utils.py:831: UserWarning: TypedStorage is deprecated. It will be removed in the future and UntypedStorage will be the only storage class. This should only matter to you if you are using storages directly.  To access UntypedStorage directly, use tensor.untyped_storage() instead of tensor.storage()\n",
      "  return self.fget.__get__(instance, owner)()\n",
      "Some weights of the model checkpoint at charsiu/en_w2v2_fc_10ms were not used when initializing Wav2Vec2ForFrameClassification: ['wav2vec2.encoder.pos_conv_embed.conv.weight_g', 'wav2vec2.encoder.pos_conv_embed.conv.weight_v']\n",
      "- This IS expected if you are initializing Wav2Vec2ForFrameClassification from the checkpoint of a model trained on another task or with another architecture (e.g. initializing a BertForSequenceClassification model from a BertForPreTraining model).\n",
      "- This IS NOT expected if you are initializing Wav2Vec2ForFrameClassification from the checkpoint of a model that you expect to be exactly identical (initializing a BertForSequenceClassification model from a BertForSequenceClassification model).\n",
      "Some weights of Wav2Vec2ForFrameClassification were not initialized from the model checkpoint at charsiu/en_w2v2_fc_10ms and are newly initialized: ['wav2vec2.encoder.pos_conv_embed.conv.parametrizations.weight.original0', 'wav2vec2.encoder.pos_conv_embed.conv.parametrizations.weight.original1']\n",
      "You should probably TRAIN this model on a down-stream task to be able to use it for predictions and inference.\n"
     ]
    }
   ],
   "source": [
    "# initialize model\n",
    "charsiu = charsiu_forced_aligner(aligner='charsiu/en_w2v2_fc_10ms')"
   ]
  },
  {
   "cell_type": "markdown",
   "metadata": {
    "id": "zYUK0SUKxtt_"
   },
   "source": [
    "Forced alignment with a neural forced alignment model"
   ]
  },
  {
   "cell_type": "code",
   "execution_count": 10,
   "metadata": {
    "id": "yHW92QgDROc4"
   },
   "outputs": [],
   "source": [
    "alignment = charsiu.align(audio=audio_path,text=text)"
   ]
  },
  {
   "cell_type": "code",
   "execution_count": 11,
   "metadata": {
    "colab": {
     "base_uri": "https://localhost:8080/"
    },
    "id": "yCmbdfpzXrQ3",
    "outputId": "e2017f28-4fc1-4394-e21e-47771a59d740"
   },
   "outputs": [
    {
     "name": "stdout",
     "output_type": "stream",
     "text": [
      "([(0.0, 0.16, '[SIL]'), (0.16, 0.28, 'SH'), (0.28, 0.36, 'IY'), (0.36, 0.44, 'HH'), (0.44, 0.54, 'AE'), (0.54, 0.62, 'D'), (0.62, 0.67, 'Y'), (0.67, 0.68, 'AO'), (0.68, 0.71, 'R'), (0.71, 0.83, 'D'), (0.83, 0.89, 'AA'), (0.89, 0.9, 'R'), (0.9, 1.01, 'K'), (1.01, 1.13, 'S'), (1.13, 1.27, 'UW'), (1.27, 1.29, 'T'), (1.29, 1.3, 'IH'), (1.3, 1.39, 'N'), (1.39, 1.44, 'G'), (1.44, 1.52, 'R'), (1.52, 1.59, 'IY'), (1.59, 1.69, 'S'), (1.69, 1.74, 'IY'), (1.74, 1.87, 'W'), (1.87, 1.95, 'AA'), (1.95, 2.07, 'SH'), (2.07, 2.12, 'W'), (2.12, 2.22, 'AO'), (2.22, 2.25, 'T'), (2.25, 2.34, 'ER'), (2.34, 2.43, 'AO'), (2.43, 2.51, 'L'), (2.51, 2.62, 'Y'), (2.62, 2.71, 'IH'), (2.71, 2.83, 'R'), (2.83, 2.9, '[SIL]')], [(0.0, 0.16, '[SIL]'), (0.16, 0.36, 'she'), (0.36, 0.62, 'had'), (0.62, 0.71, 'your'), (0.71, 1.01, 'dark'), (1.01, 1.29, 'suit'), (1.29, 1.39, 'in'), (1.39, 1.74, 'greasy'), (1.74, 2.07, 'wash'), (2.07, 2.34, 'water'), (2.34, 2.51, 'all'), (2.51, 2.83, 'year'), (2.83, 2.9, '[SIL]')])\n",
      "\n",
      " Ground Truth \n",
      "\n",
      "[(0.0, 0.190625, 'h#'), (0.190625, 0.2849375, 'sh'), (0.2849375, 0.3576875, 'ix'), (0.3576875, 0.415125, 'hv'), (0.415125, 0.54825, 'eh'), (0.54825, 0.574375, 'dcl'), (0.574375, 0.6460625, 'jh'), (0.6460625, 0.7198125, 'ih'), (0.7198125, 0.78125, 'dcl'), (0.78125, 0.79, 'd'), (0.79, 0.919625, 'ah'), (0.919625, 0.991875, 'kcl'), (0.991875, 1.020875, 'k'), (1.020875, 1.1305, 's'), (1.1305, 1.2760625, 'ux'), (1.2760625, 1.3249375, 'q'), (1.3249375, 1.41, 'en'), (1.41, 1.4325, 'gcl'), (1.4325, 1.4544375, 'g'), (1.4544375, 1.5143125, 'r'), (1.5143125, 1.597875, 'ix'), (1.597875, 1.69725, 's'), (1.69725, 1.754, 'ix'), (1.754, 1.85375, 'w'), (1.85375, 1.9824375, 'ao'), (1.9824375, 2.085, 'sh'), (2.085, 2.109625, 'epi'), (2.109625, 2.1696875, 'w'), (2.1696875, 2.255, 'ao'), (2.255, 2.270375, 'dx'), (2.270375, 2.34725, 'axr'), (2.34725, 2.4725625, 'ao'), (2.4725625, 2.5195625, 'l'), (2.5195625, 2.6286875, 'y'), (2.6286875, 2.7174375, 'ih'), (2.7174375, 2.786625, 'axr'), (2.786625, 2.92, 'h#')]\n"
     ]
    }
   ],
   "source": [
    "print(alignment)\n",
    "print('\\n Ground Truth \\n')\n",
    "print([(s/16000,e/16000,p) for s,e,p in zip(sample['phonetic_detail']['start'],sample['phonetic_detail']['stop'],sample['phonetic_detail']['utterance'])])"
   ]
  },
  {
   "cell_type": "code",
   "execution_count": null,
   "metadata": {},
   "outputs": [],
   "source": [
    "plt.plot"
   ]
  },
  {
   "cell_type": "code",
   "execution_count": 12,
   "metadata": {
    "colab": {
     "base_uri": "https://localhost:8080/"
    },
    "id": "gJkF2z91ROc5",
    "outputId": "1b2c838d-b794-489e-aacd-7cccb149fb81"
   },
   "outputs": [
    {
     "name": "stdout",
     "output_type": "stream",
     "text": [
      "Alignment output has been saved to ./local/sample.TextGrid\n"
     ]
    }
   ],
   "source": [
    "# save alignment\n",
    "charsiu.serve(audio=audio_path,text=text,save_to='./local/sample.TextGrid')"
   ]
  },
  {
   "cell_type": "markdown",
   "metadata": {
    "id": "swtLnWRlvTdr"
   },
   "source": [
    "Forced Alignment with An Attention Alignment Model"
   ]
  },
  {
   "cell_type": "code",
   "execution_count": 13,
   "metadata": {
    "colab": {
     "base_uri": "https://localhost:8080/"
    },
    "id": "tHhEVix-ugEU",
    "outputId": "882770bc-cc54-456f-de6f-d8cbf71bc25c"
   },
   "outputs": [
    {
     "name": "stdout",
     "output_type": "stream",
     "text": [
      "Text transcription:She had your dark suit in greasy wash water all year.\n",
      "Audio path: /home/tomi/Documents/tesis_speechRate/timit/data/TRAIN/DR1/FCJF0/SA1.WAV\n"
     ]
    }
   ],
   "source": [
    "# load data\n",
    "sample = timit['train'][0]\n",
    "text = sample['text']\n",
    "audio_path = sample['file']\n",
    "print('Text transcription:%s'%(text))\n",
    "print('Audio path: %s'%audio_path)"
   ]
  },
  {
   "cell_type": "code",
   "execution_count": 14,
   "metadata": {
    "id": "8mKL4RzfuP2a"
   },
   "outputs": [
    {
     "data": {
      "application/vnd.jupyter.widget-view+json": {
       "model_id": "2f301a72bd264c7c802e3d564ffe0794",
       "version_major": 2,
       "version_minor": 0
      },
      "text/plain": [
       "config.json:   0%|          | 0.00/2.62k [00:00<?, ?B/s]"
      ]
     },
     "metadata": {},
     "output_type": "display_data"
    },
    {
     "name": "stderr",
     "output_type": "stream",
     "text": [
      "/home/tomi/.local/lib/python3.10/site-packages/transformers/configuration_utils.py:363: UserWarning: Passing `gradient_checkpointing` to a config initialization is deprecated and will be removed in v5 Transformers. Using `model.gradient_checkpointing_enable()` instead, or if you are using the `Trainer` API, pass `gradient_checkpointing=True` in your `TrainingArguments`.\n",
      "  warnings.warn(\n"
     ]
    },
    {
     "data": {
      "application/vnd.jupyter.widget-view+json": {
       "model_id": "7e3925c141a247ae82a86e79dbddea5c",
       "version_major": 2,
       "version_minor": 0
      },
      "text/plain": [
       "pytorch_model.bin:   0%|          | 0.00/406M [00:00<?, ?B/s]"
      ]
     },
     "metadata": {},
     "output_type": "display_data"
    },
    {
     "name": "stderr",
     "output_type": "stream",
     "text": [
      "Error while downloading from https://cdn-lfs.huggingface.co/charsiu/en_w2v2_fs_10ms/518bda3a5ada591b256cab67161245bbada1b9b4d0d8d95c3006ef9b0787422f?response-content-disposition=attachment%3B+filename*%3DUTF-8%27%27pytorch_model.bin%3B+filename%3D%22pytorch_model.bin%22%3B&response-content-type=application%2Foctet-stream&Expires=1713880098&Policy=eyJTdGF0ZW1lbnQiOlt7IkNvbmRpdGlvbiI6eyJEYXRlTGVzc1RoYW4iOnsiQVdTOkVwb2NoVGltZSI6MTcxMzg4MDA5OH19LCJSZXNvdXJjZSI6Imh0dHBzOi8vY2RuLWxmcy5odWdnaW5nZmFjZS5jby9jaGFyc2l1L2VuX3cydjJfZnNfMTBtcy81MThiZGEzYTVhZGE1OTFiMjU2Y2FiNjcxNjEyNDViYmFkYTFiOWI0ZDBkOGQ5NWMzMDA2ZWY5YjA3ODc0MjJmP3Jlc3BvbnNlLWNvbnRlbnQtZGlzcG9zaXRpb249KiZyZXNwb25zZS1jb250ZW50LXR5cGU9KiJ9XX0_&Signature=hWs5vwopjg2r1OHrner9i8TfhETsUTuBTnDv0%7Eo5sYCTz5ZFqN%7Es0zMDbiNplx6FBmp0rQsyW2i80-MfSZPE4kTyTXRrt8Xzg7WdBuef-Rw0t5YbZs8ntJHNZsgGl2Q6TWOdVIcwDCRtk0xGxenhdxzW8cyVjHYS1jMZGb1V2xilbJBfx6moOpQ5lj5XJD2mtG27TLxZsuobpWut74KuU%7E2BOsi52OQNklLwYztnl4JRaP2g38jeWm0cXVwutwrkJ2dxFSycOzI5u%7E0PEucIS-qVkFby2ngEkp5m7qcoJt0ksmdoX591FUPXk2aSNlaysT7PnGie8eIlTZwmTHtxsg__&Key-Pair-Id=KVTP0A1DKRTAX: HTTPSConnectionPool(host='cdn-lfs.huggingface.co', port=443): Read timed out.\n",
      "Trying to resume download...\n"
     ]
    },
    {
     "data": {
      "application/vnd.jupyter.widget-view+json": {
       "model_id": "06b4d7edc2564c34b18231203e01f066",
       "version_major": 2,
       "version_minor": 0
      },
      "text/plain": [
       "pytorch_model.bin:  26%|##5       | 105M/406M [00:00<?, ?B/s]"
      ]
     },
     "metadata": {},
     "output_type": "display_data"
    },
    {
     "name": "stderr",
     "output_type": "stream",
     "text": [
      "Some weights of the model checkpoint at charsiu/en_w2v2_fs_10ms were not used when initializing Wav2Vec2ForAttentionAlignment: ['wav2vec2.encoder.pos_conv_embed.conv.weight_g', 'wav2vec2.encoder.pos_conv_embed.conv.weight_v']\n",
      "- This IS expected if you are initializing Wav2Vec2ForAttentionAlignment from the checkpoint of a model trained on another task or with another architecture (e.g. initializing a BertForSequenceClassification model from a BertForPreTraining model).\n",
      "- This IS NOT expected if you are initializing Wav2Vec2ForAttentionAlignment from the checkpoint of a model that you expect to be exactly identical (initializing a BertForSequenceClassification model from a BertForSequenceClassification model).\n",
      "Some weights of Wav2Vec2ForAttentionAlignment were not initialized from the model checkpoint at charsiu/en_w2v2_fs_10ms and are newly initialized: ['wav2vec2.encoder.pos_conv_embed.conv.parametrizations.weight.original0', 'wav2vec2.encoder.pos_conv_embed.conv.parametrizations.weight.original1']\n",
      "You should probably TRAIN this model on a down-stream task to be able to use it for predictions and inference.\n"
     ]
    }
   ],
   "source": [
    "# intialize model\n",
    "charsiu = charsiu_attention_aligner('charsiu/en_w2v2_fs_10ms')"
   ]
  },
  {
   "cell_type": "code",
   "execution_count": 15,
   "metadata": {
    "id": "m-SpQfeIvnBu"
   },
   "outputs": [],
   "source": [
    "alignment = charsiu.align(audio=audio_path,text=text)"
   ]
  },
  {
   "cell_type": "code",
   "execution_count": 16,
   "metadata": {
    "colab": {
     "base_uri": "https://localhost:8080/"
    },
    "id": "lbbV0gpuvJW2",
    "outputId": "3dbf4bd3-b36a-44b8-c810-5cfc579958df"
   },
   "outputs": [
    {
     "name": "stdout",
     "output_type": "stream",
     "text": [
      "[(0.0, 0.17, '[SIL]'), (0.17, 0.29, 'SH'), (0.29, 0.36, 'IY'), (0.36, 0.44, 'HH'), (0.44, 0.53, 'AE'), (0.53, 0.61, 'D'), (0.61, 0.66, 'Y'), (0.66, 0.7, 'AO'), (0.7, 0.74, 'R'), (0.74, 0.81, 'D'), (0.81, 0.89, 'AA'), (0.89, 0.93, 'R'), (0.93, 1.01, 'K'), (1.01, 1.13, 'S'), (1.13, 1.25, 'UW'), (1.25, 1.29, 'T'), (1.29, 1.34, 'IH'), (1.34, 1.41, 'N'), (1.41, 1.46, 'G'), (1.46, 1.53, 'R'), (1.53, 1.6, 'IY'), (1.6, 1.69, 'S'), (1.69, 1.78, 'IY'), (1.78, 1.88, 'W'), (1.88, 1.99, 'AA'), (1.99, 2.08, 'SH'), (2.08, 2.09, 'ER'), (2.09, 2.15, 'W'), (2.15, 2.23, 'AO'), (2.23, 2.28, 'T'), (2.28, 2.34, 'ER'), (2.34, 2.45, 'AO'), (2.45, 2.53, 'L'), (2.53, 2.64, 'Y'), (2.64, 2.72, 'IH'), (2.72, 2.8, 'R'), (2.8, 2.9, '[SIL]')]\n",
      "\n",
      " Ground Truth \n",
      "\n",
      "[(0.0, 0.190625, 'h#'), (0.190625, 0.2849375, 'sh'), (0.2849375, 0.3576875, 'ix'), (0.3576875, 0.415125, 'hv'), (0.415125, 0.54825, 'eh'), (0.54825, 0.574375, 'dcl'), (0.574375, 0.6460625, 'jh'), (0.6460625, 0.7198125, 'ih'), (0.7198125, 0.78125, 'dcl'), (0.78125, 0.79, 'd'), (0.79, 0.919625, 'ah'), (0.919625, 0.991875, 'kcl'), (0.991875, 1.020875, 'k'), (1.020875, 1.1305, 's'), (1.1305, 1.2760625, 'ux'), (1.2760625, 1.3249375, 'q'), (1.3249375, 1.41, 'en'), (1.41, 1.4325, 'gcl'), (1.4325, 1.4544375, 'g'), (1.4544375, 1.5143125, 'r'), (1.5143125, 1.597875, 'ix'), (1.597875, 1.69725, 's'), (1.69725, 1.754, 'ix'), (1.754, 1.85375, 'w'), (1.85375, 1.9824375, 'ao'), (1.9824375, 2.085, 'sh'), (2.085, 2.109625, 'epi'), (2.109625, 2.1696875, 'w'), (2.1696875, 2.255, 'ao'), (2.255, 2.270375, 'dx'), (2.270375, 2.34725, 'axr'), (2.34725, 2.4725625, 'ao'), (2.4725625, 2.5195625, 'l'), (2.5195625, 2.6286875, 'y'), (2.6286875, 2.7174375, 'ih'), (2.7174375, 2.786625, 'axr'), (2.786625, 2.92, 'h#')]\n"
     ]
    }
   ],
   "source": [
    "print(alignment)\n",
    "print('\\n Ground Truth \\n')\n",
    "print([(s/16000,e/16000,p) for s,e,p in zip(sample['phonetic_detail']['start'],sample['phonetic_detail']['stop'],sample['phonetic_detail']['utterance'])])"
   ]
  },
  {
   "cell_type": "code",
   "execution_count": 17,
   "metadata": {
    "colab": {
     "base_uri": "https://localhost:8080/"
    },
    "id": "V_Y9eH5KlO4r",
    "outputId": "35419b67-3f65-4b35-8d17-6ea3fb458436"
   },
   "outputs": [
    {
     "name": "stdout",
     "output_type": "stream",
     "text": [
      "Alignment output has been saved to ./local/sample.TextGrid\n"
     ]
    }
   ],
   "source": [
    "charsiu.serve(audio=audio_path,text=text,save_to='./local/sample.TextGrid')"
   ]
  },
  {
   "cell_type": "code",
   "execution_count": null,
   "metadata": {},
   "outputs": [],
   "source": []
  }
 ],
 "metadata": {
  "colab": {
   "name": "charsiu_demo.ipynb",
   "provenance": []
  },
  "kernelspec": {
   "display_name": "Python 3 (ipykernel)",
   "language": "python",
   "name": "python3"
  },
  "language_info": {
   "codemirror_mode": {
    "name": "ipython",
    "version": 3
   },
   "file_extension": ".py",
   "mimetype": "text/x-python",
   "name": "python",
   "nbconvert_exporter": "python",
   "pygments_lexer": "ipython3",
   "version": "3.10.12"
  },
  "widgets": {
   "application/vnd.jupyter.widget-state+json": {
    "03c10bce11b24199833099122601ce68": {
     "model_module": "@jupyter-widgets/controls",
     "model_module_version": "1.5.0",
     "model_name": "ProgressStyleModel",
     "state": {
      "_model_module": "@jupyter-widgets/controls",
      "_model_module_version": "1.5.0",
      "_model_name": "ProgressStyleModel",
      "_view_count": null,
      "_view_module": "@jupyter-widgets/base",
      "_view_module_version": "1.2.0",
      "_view_name": "StyleView",
      "bar_color": null,
      "description_width": ""
     }
    },
    "0a544d85032c44b29683be865ce1ba24": {
     "model_module": "@jupyter-widgets/controls",
     "model_module_version": "1.5.0",
     "model_name": "DescriptionStyleModel",
     "state": {
      "_model_module": "@jupyter-widgets/controls",
      "_model_module_version": "1.5.0",
      "_model_name": "DescriptionStyleModel",
      "_view_count": null,
      "_view_module": "@jupyter-widgets/base",
      "_view_module_version": "1.2.0",
      "_view_name": "StyleView",
      "description_width": ""
     }
    },
    "0c2ebf095c9a449896681d3f2d18c11e": {
     "model_module": "@jupyter-widgets/base",
     "model_module_version": "1.2.0",
     "model_name": "LayoutModel",
     "state": {
      "_model_module": "@jupyter-widgets/base",
      "_model_module_version": "1.2.0",
      "_model_name": "LayoutModel",
      "_view_count": null,
      "_view_module": "@jupyter-widgets/base",
      "_view_module_version": "1.2.0",
      "_view_name": "LayoutView",
      "align_content": null,
      "align_items": null,
      "align_self": null,
      "border": null,
      "bottom": null,
      "display": null,
      "flex": null,
      "flex_flow": null,
      "grid_area": null,
      "grid_auto_columns": null,
      "grid_auto_flow": null,
      "grid_auto_rows": null,
      "grid_column": null,
      "grid_gap": null,
      "grid_row": null,
      "grid_template_areas": null,
      "grid_template_columns": null,
      "grid_template_rows": null,
      "height": null,
      "justify_content": null,
      "justify_items": null,
      "left": null,
      "margin": null,
      "max_height": null,
      "max_width": null,
      "min_height": null,
      "min_width": null,
      "object_fit": null,
      "object_position": null,
      "order": null,
      "overflow": null,
      "overflow_x": null,
      "overflow_y": null,
      "padding": null,
      "right": null,
      "top": null,
      "visibility": null,
      "width": null
     }
    },
    "165431e8957f43338a95bdb22e4e2745": {
     "model_module": "@jupyter-widgets/controls",
     "model_module_version": "1.5.0",
     "model_name": "HTMLModel",
     "state": {
      "_dom_classes": [],
      "_model_module": "@jupyter-widgets/controls",
      "_model_module_version": "1.5.0",
      "_model_name": "HTMLModel",
      "_view_count": null,
      "_view_module": "@jupyter-widgets/controls",
      "_view_module_version": "1.5.0",
      "_view_name": "HTMLView",
      "description": "",
      "description_tooltip": null,
      "layout": "IPY_MODEL_bfef77de981c45719b8c8b37f3b0cbda",
      "placeholder": "​",
      "style": "IPY_MODEL_0a544d85032c44b29683be865ce1ba24",
      "value": " 7.48k/7.48k [00:00&lt;00:00, 196kB/s]"
     }
    },
    "192425a27ae545beb5300af3cdd061f1": {
     "model_module": "@jupyter-widgets/controls",
     "model_module_version": "1.5.0",
     "model_name": "HTMLModel",
     "state": {
      "_dom_classes": [],
      "_model_module": "@jupyter-widgets/controls",
      "_model_module_version": "1.5.0",
      "_model_name": "HTMLModel",
      "_view_count": null,
      "_view_module": "@jupyter-widgets/controls",
      "_view_module_version": "1.5.0",
      "_view_name": "HTMLView",
      "description": "",
      "description_tooltip": null,
      "layout": "IPY_MODEL_395a3bd1d8ec43db869ce38353a8904a",
      "placeholder": "​",
      "style": "IPY_MODEL_41280db548474a93bf45f1ee67b9f4eb",
      "value": "Downloading readme: 100%"
     }
    },
    "1b6caf6776024783815897209d968de1": {
     "model_module": "@jupyter-widgets/base",
     "model_module_version": "1.2.0",
     "model_name": "LayoutModel",
     "state": {
      "_model_module": "@jupyter-widgets/base",
      "_model_module_version": "1.2.0",
      "_model_name": "LayoutModel",
      "_view_count": null,
      "_view_module": "@jupyter-widgets/base",
      "_view_module_version": "1.2.0",
      "_view_name": "LayoutView",
      "align_content": null,
      "align_items": null,
      "align_self": null,
      "border": null,
      "bottom": null,
      "display": null,
      "flex": null,
      "flex_flow": null,
      "grid_area": null,
      "grid_auto_columns": null,
      "grid_auto_flow": null,
      "grid_auto_rows": null,
      "grid_column": null,
      "grid_gap": null,
      "grid_row": null,
      "grid_template_areas": null,
      "grid_template_columns": null,
      "grid_template_rows": null,
      "height": null,
      "justify_content": null,
      "justify_items": null,
      "left": null,
      "margin": null,
      "max_height": null,
      "max_width": null,
      "min_height": null,
      "min_width": null,
      "object_fit": null,
      "object_position": null,
      "order": null,
      "overflow": null,
      "overflow_x": null,
      "overflow_y": null,
      "padding": null,
      "right": null,
      "top": null,
      "visibility": null,
      "width": null
     }
    },
    "1cd6049cd2254572b6a3e80b5e511efa": {
     "model_module": "@jupyter-widgets/controls",
     "model_module_version": "1.5.0",
     "model_name": "FloatProgressModel",
     "state": {
      "_dom_classes": [],
      "_model_module": "@jupyter-widgets/controls",
      "_model_module_version": "1.5.0",
      "_model_name": "FloatProgressModel",
      "_view_count": null,
      "_view_module": "@jupyter-widgets/controls",
      "_view_module_version": "1.5.0",
      "_view_name": "ProgressView",
      "bar_style": "success",
      "description": "",
      "description_tooltip": null,
      "layout": "IPY_MODEL_d89067f3c369456cac8f9787038c91e6",
      "max": 11130,
      "min": 0,
      "orientation": "horizontal",
      "style": "IPY_MODEL_8be3a21c1dd2473ca2b3c52c4994d05f",
      "value": 11130
     }
    },
    "1de652c332544547a4e5790f1feb22b7": {
     "model_module": "@jupyter-widgets/base",
     "model_module_version": "1.2.0",
     "model_name": "LayoutModel",
     "state": {
      "_model_module": "@jupyter-widgets/base",
      "_model_module_version": "1.2.0",
      "_model_name": "LayoutModel",
      "_view_count": null,
      "_view_module": "@jupyter-widgets/base",
      "_view_module_version": "1.2.0",
      "_view_name": "LayoutView",
      "align_content": null,
      "align_items": null,
      "align_self": null,
      "border": null,
      "bottom": null,
      "display": null,
      "flex": null,
      "flex_flow": null,
      "grid_area": null,
      "grid_auto_columns": null,
      "grid_auto_flow": null,
      "grid_auto_rows": null,
      "grid_column": null,
      "grid_gap": null,
      "grid_row": null,
      "grid_template_areas": null,
      "grid_template_columns": null,
      "grid_template_rows": null,
      "height": null,
      "justify_content": null,
      "justify_items": null,
      "left": null,
      "margin": null,
      "max_height": null,
      "max_width": null,
      "min_height": null,
      "min_width": null,
      "object_fit": null,
      "object_position": null,
      "order": null,
      "overflow": null,
      "overflow_x": null,
      "overflow_y": null,
      "padding": null,
      "right": null,
      "top": null,
      "visibility": null,
      "width": null
     }
    },
    "25fd551329944bdda0570551321f9942": {
     "model_module": "@jupyter-widgets/controls",
     "model_module_version": "1.5.0",
     "model_name": "HTMLModel",
     "state": {
      "_dom_classes": [],
      "_model_module": "@jupyter-widgets/controls",
      "_model_module_version": "1.5.0",
      "_model_name": "HTMLModel",
      "_view_count": null,
      "_view_module": "@jupyter-widgets/controls",
      "_view_module_version": "1.5.0",
      "_view_name": "HTMLView",
      "description": "",
      "description_tooltip": null,
      "layout": "IPY_MODEL_34ad1dfeb5374a2f99eed6626e217b05",
      "placeholder": "​",
      "style": "IPY_MODEL_dd451965293b4064a3bea9ea1a181c8a",
      "value": " 11.1k/11.1k [00:00&lt;00:00, 374kB/s]"
     }
    },
    "34ad1dfeb5374a2f99eed6626e217b05": {
     "model_module": "@jupyter-widgets/base",
     "model_module_version": "1.2.0",
     "model_name": "LayoutModel",
     "state": {
      "_model_module": "@jupyter-widgets/base",
      "_model_module_version": "1.2.0",
      "_model_name": "LayoutModel",
      "_view_count": null,
      "_view_module": "@jupyter-widgets/base",
      "_view_module_version": "1.2.0",
      "_view_name": "LayoutView",
      "align_content": null,
      "align_items": null,
      "align_self": null,
      "border": null,
      "bottom": null,
      "display": null,
      "flex": null,
      "flex_flow": null,
      "grid_area": null,
      "grid_auto_columns": null,
      "grid_auto_flow": null,
      "grid_auto_rows": null,
      "grid_column": null,
      "grid_gap": null,
      "grid_row": null,
      "grid_template_areas": null,
      "grid_template_columns": null,
      "grid_template_rows": null,
      "height": null,
      "justify_content": null,
      "justify_items": null,
      "left": null,
      "margin": null,
      "max_height": null,
      "max_width": null,
      "min_height": null,
      "min_width": null,
      "object_fit": null,
      "object_position": null,
      "order": null,
      "overflow": null,
      "overflow_x": null,
      "overflow_y": null,
      "padding": null,
      "right": null,
      "top": null,
      "visibility": null,
      "width": null
     }
    },
    "395a3bd1d8ec43db869ce38353a8904a": {
     "model_module": "@jupyter-widgets/base",
     "model_module_version": "1.2.0",
     "model_name": "LayoutModel",
     "state": {
      "_model_module": "@jupyter-widgets/base",
      "_model_module_version": "1.2.0",
      "_model_name": "LayoutModel",
      "_view_count": null,
      "_view_module": "@jupyter-widgets/base",
      "_view_module_version": "1.2.0",
      "_view_name": "LayoutView",
      "align_content": null,
      "align_items": null,
      "align_self": null,
      "border": null,
      "bottom": null,
      "display": null,
      "flex": null,
      "flex_flow": null,
      "grid_area": null,
      "grid_auto_columns": null,
      "grid_auto_flow": null,
      "grid_auto_rows": null,
      "grid_column": null,
      "grid_gap": null,
      "grid_row": null,
      "grid_template_areas": null,
      "grid_template_columns": null,
      "grid_template_rows": null,
      "height": null,
      "justify_content": null,
      "justify_items": null,
      "left": null,
      "margin": null,
      "max_height": null,
      "max_width": null,
      "min_height": null,
      "min_width": null,
      "object_fit": null,
      "object_position": null,
      "order": null,
      "overflow": null,
      "overflow_x": null,
      "overflow_y": null,
      "padding": null,
      "right": null,
      "top": null,
      "visibility": null,
      "width": null
     }
    },
    "41280db548474a93bf45f1ee67b9f4eb": {
     "model_module": "@jupyter-widgets/controls",
     "model_module_version": "1.5.0",
     "model_name": "DescriptionStyleModel",
     "state": {
      "_model_module": "@jupyter-widgets/controls",
      "_model_module_version": "1.5.0",
      "_model_name": "DescriptionStyleModel",
      "_view_count": null,
      "_view_module": "@jupyter-widgets/base",
      "_view_module_version": "1.2.0",
      "_view_name": "StyleView",
      "description_width": ""
     }
    },
    "734d92b908a64a14ae486cd91050ef1d": {
     "model_module": "@jupyter-widgets/controls",
     "model_module_version": "1.5.0",
     "model_name": "DescriptionStyleModel",
     "state": {
      "_model_module": "@jupyter-widgets/controls",
      "_model_module_version": "1.5.0",
      "_model_name": "DescriptionStyleModel",
      "_view_count": null,
      "_view_module": "@jupyter-widgets/base",
      "_view_module_version": "1.2.0",
      "_view_name": "StyleView",
      "description_width": ""
     }
    },
    "8be3a21c1dd2473ca2b3c52c4994d05f": {
     "model_module": "@jupyter-widgets/controls",
     "model_module_version": "1.5.0",
     "model_name": "ProgressStyleModel",
     "state": {
      "_model_module": "@jupyter-widgets/controls",
      "_model_module_version": "1.5.0",
      "_model_name": "ProgressStyleModel",
      "_view_count": null,
      "_view_module": "@jupyter-widgets/base",
      "_view_module_version": "1.2.0",
      "_view_name": "StyleView",
      "bar_color": null,
      "description_width": ""
     }
    },
    "8ffda97b40bc44089a2ab563086aa177": {
     "model_module": "@jupyter-widgets/base",
     "model_module_version": "1.2.0",
     "model_name": "LayoutModel",
     "state": {
      "_model_module": "@jupyter-widgets/base",
      "_model_module_version": "1.2.0",
      "_model_name": "LayoutModel",
      "_view_count": null,
      "_view_module": "@jupyter-widgets/base",
      "_view_module_version": "1.2.0",
      "_view_name": "LayoutView",
      "align_content": null,
      "align_items": null,
      "align_self": null,
      "border": null,
      "bottom": null,
      "display": null,
      "flex": null,
      "flex_flow": null,
      "grid_area": null,
      "grid_auto_columns": null,
      "grid_auto_flow": null,
      "grid_auto_rows": null,
      "grid_column": null,
      "grid_gap": null,
      "grid_row": null,
      "grid_template_areas": null,
      "grid_template_columns": null,
      "grid_template_rows": null,
      "height": null,
      "justify_content": null,
      "justify_items": null,
      "left": null,
      "margin": null,
      "max_height": null,
      "max_width": null,
      "min_height": null,
      "min_width": null,
      "object_fit": null,
      "object_position": null,
      "order": null,
      "overflow": null,
      "overflow_x": null,
      "overflow_y": null,
      "padding": null,
      "right": null,
      "top": null,
      "visibility": null,
      "width": null
     }
    },
    "bfef77de981c45719b8c8b37f3b0cbda": {
     "model_module": "@jupyter-widgets/base",
     "model_module_version": "1.2.0",
     "model_name": "LayoutModel",
     "state": {
      "_model_module": "@jupyter-widgets/base",
      "_model_module_version": "1.2.0",
      "_model_name": "LayoutModel",
      "_view_count": null,
      "_view_module": "@jupyter-widgets/base",
      "_view_module_version": "1.2.0",
      "_view_name": "LayoutView",
      "align_content": null,
      "align_items": null,
      "align_self": null,
      "border": null,
      "bottom": null,
      "display": null,
      "flex": null,
      "flex_flow": null,
      "grid_area": null,
      "grid_auto_columns": null,
      "grid_auto_flow": null,
      "grid_auto_rows": null,
      "grid_column": null,
      "grid_gap": null,
      "grid_row": null,
      "grid_template_areas": null,
      "grid_template_columns": null,
      "grid_template_rows": null,
      "height": null,
      "justify_content": null,
      "justify_items": null,
      "left": null,
      "margin": null,
      "max_height": null,
      "max_width": null,
      "min_height": null,
      "min_width": null,
      "object_fit": null,
      "object_position": null,
      "order": null,
      "overflow": null,
      "overflow_x": null,
      "overflow_y": null,
      "padding": null,
      "right": null,
      "top": null,
      "visibility": null,
      "width": null
     }
    },
    "c1654ee4c39f429a9d06c03538f0dc93": {
     "model_module": "@jupyter-widgets/controls",
     "model_module_version": "1.5.0",
     "model_name": "FloatProgressModel",
     "state": {
      "_dom_classes": [],
      "_model_module": "@jupyter-widgets/controls",
      "_model_module_version": "1.5.0",
      "_model_name": "FloatProgressModel",
      "_view_count": null,
      "_view_module": "@jupyter-widgets/controls",
      "_view_module_version": "1.5.0",
      "_view_name": "ProgressView",
      "bar_style": "success",
      "description": "",
      "description_tooltip": null,
      "layout": "IPY_MODEL_1de652c332544547a4e5790f1feb22b7",
      "max": 7480,
      "min": 0,
      "orientation": "horizontal",
      "style": "IPY_MODEL_03c10bce11b24199833099122601ce68",
      "value": 7480
     }
    },
    "cbf749323af54b41965943b02a2c6497": {
     "model_module": "@jupyter-widgets/controls",
     "model_module_version": "1.5.0",
     "model_name": "HBoxModel",
     "state": {
      "_dom_classes": [],
      "_model_module": "@jupyter-widgets/controls",
      "_model_module_version": "1.5.0",
      "_model_name": "HBoxModel",
      "_view_count": null,
      "_view_module": "@jupyter-widgets/controls",
      "_view_module_version": "1.5.0",
      "_view_name": "HBoxView",
      "box_style": "",
      "children": [
       "IPY_MODEL_e2eb591eaf514c7eaee4dc93d2183387",
       "IPY_MODEL_c1654ee4c39f429a9d06c03538f0dc93",
       "IPY_MODEL_165431e8957f43338a95bdb22e4e2745"
      ],
      "layout": "IPY_MODEL_8ffda97b40bc44089a2ab563086aa177"
     }
    },
    "d89067f3c369456cac8f9787038c91e6": {
     "model_module": "@jupyter-widgets/base",
     "model_module_version": "1.2.0",
     "model_name": "LayoutModel",
     "state": {
      "_model_module": "@jupyter-widgets/base",
      "_model_module_version": "1.2.0",
      "_model_name": "LayoutModel",
      "_view_count": null,
      "_view_module": "@jupyter-widgets/base",
      "_view_module_version": "1.2.0",
      "_view_name": "LayoutView",
      "align_content": null,
      "align_items": null,
      "align_self": null,
      "border": null,
      "bottom": null,
      "display": null,
      "flex": null,
      "flex_flow": null,
      "grid_area": null,
      "grid_auto_columns": null,
      "grid_auto_flow": null,
      "grid_auto_rows": null,
      "grid_column": null,
      "grid_gap": null,
      "grid_row": null,
      "grid_template_areas": null,
      "grid_template_columns": null,
      "grid_template_rows": null,
      "height": null,
      "justify_content": null,
      "justify_items": null,
      "left": null,
      "margin": null,
      "max_height": null,
      "max_width": null,
      "min_height": null,
      "min_width": null,
      "object_fit": null,
      "object_position": null,
      "order": null,
      "overflow": null,
      "overflow_x": null,
      "overflow_y": null,
      "padding": null,
      "right": null,
      "top": null,
      "visibility": null,
      "width": null
     }
    },
    "dd451965293b4064a3bea9ea1a181c8a": {
     "model_module": "@jupyter-widgets/controls",
     "model_module_version": "1.5.0",
     "model_name": "DescriptionStyleModel",
     "state": {
      "_model_module": "@jupyter-widgets/controls",
      "_model_module_version": "1.5.0",
      "_model_name": "DescriptionStyleModel",
      "_view_count": null,
      "_view_module": "@jupyter-widgets/base",
      "_view_module_version": "1.2.0",
      "_view_name": "StyleView",
      "description_width": ""
     }
    },
    "e2eb591eaf514c7eaee4dc93d2183387": {
     "model_module": "@jupyter-widgets/controls",
     "model_module_version": "1.5.0",
     "model_name": "HTMLModel",
     "state": {
      "_dom_classes": [],
      "_model_module": "@jupyter-widgets/controls",
      "_model_module_version": "1.5.0",
      "_model_name": "HTMLModel",
      "_view_count": null,
      "_view_module": "@jupyter-widgets/controls",
      "_view_module_version": "1.5.0",
      "_view_name": "HTMLView",
      "description": "",
      "description_tooltip": null,
      "layout": "IPY_MODEL_0c2ebf095c9a449896681d3f2d18c11e",
      "placeholder": "​",
      "style": "IPY_MODEL_734d92b908a64a14ae486cd91050ef1d",
      "value": "Downloading builder script: 100%"
     }
    },
    "ec6f4d1ab83e47f7b4c2566578178685": {
     "model_module": "@jupyter-widgets/controls",
     "model_module_version": "1.5.0",
     "model_name": "HBoxModel",
     "state": {
      "_dom_classes": [],
      "_model_module": "@jupyter-widgets/controls",
      "_model_module_version": "1.5.0",
      "_model_name": "HBoxModel",
      "_view_count": null,
      "_view_module": "@jupyter-widgets/controls",
      "_view_module_version": "1.5.0",
      "_view_name": "HBoxView",
      "box_style": "",
      "children": [
       "IPY_MODEL_192425a27ae545beb5300af3cdd061f1",
       "IPY_MODEL_1cd6049cd2254572b6a3e80b5e511efa",
       "IPY_MODEL_25fd551329944bdda0570551321f9942"
      ],
      "layout": "IPY_MODEL_1b6caf6776024783815897209d968de1"
     }
    }
   }
  }
 },
 "nbformat": 4,
 "nbformat_minor": 4
}
