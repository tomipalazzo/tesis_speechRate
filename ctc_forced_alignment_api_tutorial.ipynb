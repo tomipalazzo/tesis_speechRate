{
 "cells": [
  {
   "cell_type": "markdown",
   "metadata": {},
   "source": [
    "\n",
    "# CTC forced alignment API tutorial\n",
    "\n",
    "**Author**: [Xiaohui Zhang](xiaohuizhang@meta.com)_, [Moto Hira](moto@meta.com)_\n",
    "\n",
    "The forced alignment is a process to align transcript with speech.\n",
    "This tutorial shows how to align transcripts to speech using\n",
    ":py:func:`torchaudio.functional.forced_align` which was developed along the work of\n",
    "[Scaling Speech Technology to 1,000+ Languages](https://research.facebook.com/publications/scaling-speech-technology-to-1000-languages/)_.\n",
    "\n",
    ":py:func:`~torchaudio.functional.forced_align` has custom CPU and CUDA\n",
    "implementations which are more performant than the vanilla Python\n",
    "implementation above, and are more accurate.\n",
    "It can also handle missing transcript with special ``<star>`` token.\n",
    "\n",
    "There is also a high-level API, :py:class:`torchaudio.pipelines.Wav2Vec2FABundle`,\n",
    "which wraps the pre/post-processing explained in this tutorial and makes it easy\n",
    "to run forced-alignments.\n",
    "[Forced alignment for multilingual data](./forced_alignment_for_multilingual_data_tutorial.html)_ uses this API to\n",
    "illustrate how to align non-English transcripts.\n"
   ]
  },
  {
   "cell_type": "markdown",
   "metadata": {},
   "source": [
    "## Preparation\n",
    "\n"
   ]
  },
  {
   "cell_type": "code",
   "execution_count": null,
   "metadata": {
    "collapsed": false,
    "jupyter": {
     "outputs_hidden": false
    }
   },
   "outputs": [],
   "source": [
    "import torch\n",
    "import torchaudio\n",
    "\n",
    "print(torch.__version__)\n",
    "print(torchaudio.__version__)"
   ]
  },
  {
   "cell_type": "code",
   "execution_count": null,
   "metadata": {
    "collapsed": false,
    "jupyter": {
     "outputs_hidden": false
    }
   },
   "outputs": [],
   "source": [
    "device = torch.device(\"cuda\" if torch.cuda.is_available() else \"cpu\")\n",
    "print(device)"
   ]
  },
  {
   "cell_type": "code",
   "execution_count": null,
   "metadata": {
    "collapsed": false,
    "jupyter": {
     "outputs_hidden": false
    }
   },
   "outputs": [],
   "source": [
    "import IPython\n",
    "import matplotlib.pyplot as plt\n",
    "\n",
    "import torchaudio.functional as F"
   ]
  },
  {
   "cell_type": "markdown",
   "metadata": {},
   "source": [
    "First we prepare the speech data and the transcript we area going\n",
    "to use.\n",
    "\n",
    "\n"
   ]
  },
  {
   "cell_type": "code",
   "execution_count": null,
   "metadata": {
    "collapsed": false,
    "jupyter": {
     "outputs_hidden": false
    }
   },
   "outputs": [],
   "source": [
    "SPEECH_FILE = torchaudio.utils.download_asset(\"tutorial-assets/Lab41-SRI-VOiCES-src-sp0307-ch127535-sg0042.wav\")\n",
    "waveform, _ = torchaudio.load(SPEECH_FILE)\n",
    "TRANSCRIPT = \"i had that curiosity beside me at this moment\".split()"
   ]
  },
  {
   "cell_type": "markdown",
   "metadata": {},
   "source": [
    "### Generating emissions\n",
    "\n",
    ":py:func:`~torchaudio.functional.forced_align` takes emission and\n",
    "token sequences and outputs timestaps of the tokens and their scores.\n",
    "\n",
    "Emission reperesents the frame-wise probability distribution over\n",
    "tokens, and it can be obtained by passing waveform to an acoustic\n",
    "model.\n",
    "\n",
    "Tokens are numerical expression of transcripts. There are many ways to\n",
    "tokenize transcripts, but here, we simply map alphabets into integer,\n",
    "which is how labels were constructed when the acoustice model we are\n",
    "going to use was trained.\n",
    "\n",
    "We will use a pre-trained Wav2Vec2 model,\n",
    ":py:data:`torchaudio.pipelines.MMS_FA`, to obtain emission and tokenize\n",
    "the transcript.\n",
    "\n",
    "\n"
   ]
  },
  {
   "cell_type": "code",
   "execution_count": null,
   "metadata": {
    "collapsed": false,
    "jupyter": {
     "outputs_hidden": false
    }
   },
   "outputs": [],
   "source": [
    "bundle = torchaudio.pipelines.MMS_FA\n",
    "\n",
    "model = bundle.get_model(with_star=False).to(device)\n",
    "with torch.inference_mode():\n",
    "    emission, _ = model(waveform.to(device))"
   ]
  },
  {
   "cell_type": "code",
   "execution_count": null,
   "metadata": {
    "collapsed": false,
    "jupyter": {
     "outputs_hidden": false
    }
   },
   "outputs": [],
   "source": [
    "def plot_emission(emission):\n",
    "    fig, ax = plt.subplots()\n",
    "    ax.imshow(emission.cpu().T)\n",
    "    ax.set_title(\"Frame-wise class probabilities\")\n",
    "    ax.set_xlabel(\"Time\")\n",
    "    ax.set_ylabel(\"Labels\")\n",
    "    fig.tight_layout()\n",
    "\n",
    "\n",
    "plot_emission(emission[0])"
   ]
  },
  {
   "cell_type": "markdown",
   "metadata": {},
   "source": [
    "### Tokenize the transcript\n",
    "\n",
    "We create a dictionary, which maps each label into token.\n",
    "\n"
   ]
  },
  {
   "cell_type": "code",
   "execution_count": null,
   "metadata": {
    "collapsed": false,
    "jupyter": {
     "outputs_hidden": false
    }
   },
   "outputs": [],
   "source": [
    "LABELS = bundle.get_labels(star=None)\n",
    "DICTIONARY = bundle.get_dict(star=None)\n",
    "for k, v in DICTIONARY.items():\n",
    "    print(f\"{k}: {v}\")"
   ]
  },
  {
   "cell_type": "markdown",
   "metadata": {},
   "source": [
    "converting transcript to tokens is as simple as\n",
    "\n"
   ]
  },
  {
   "cell_type": "code",
   "execution_count": null,
   "metadata": {
    "collapsed": false,
    "jupyter": {
     "outputs_hidden": false
    }
   },
   "outputs": [],
   "source": [
    "tokenized_transcript = [DICTIONARY[c] for word in TRANSCRIPT for c in word]\n",
    "\n",
    "for t in tokenized_transcript:\n",
    "    print(t, end=\" \")\n",
    "print()"
   ]
  },
  {
   "cell_type": "markdown",
   "metadata": {},
   "source": [
    "## Computing alignments\n",
    "\n",
    "### Frame-level alignments\n",
    "\n",
    "Now we call TorchAudio’s forced alignment API to compute the\n",
    "frame-level alignment. For the detail of function signature, please\n",
    "refer to :py:func:`~torchaudio.functional.forced_align`.\n",
    "\n",
    "\n"
   ]
  },
  {
   "cell_type": "code",
   "execution_count": null,
   "metadata": {
    "collapsed": false,
    "jupyter": {
     "outputs_hidden": false
    }
   },
   "outputs": [],
   "source": [
    "def align(emission, tokens):\n",
    "    targets = torch.tensor([tokens], dtype=torch.int32, device=device)\n",
    "    alignments, scores = F.forced_align(emission, targets, blank=0)\n",
    "\n",
    "    alignments, scores = alignments[0], scores[0]  # remove batch dimension for simplicity\n",
    "    scores = scores.exp()  # convert back to probability\n",
    "    return alignments, scores\n",
    "\n",
    "\n",
    "aligned_tokens, alignment_scores = align(emission, tokenized_transcript)"
   ]
  },
  {
   "cell_type": "markdown",
   "metadata": {},
   "source": [
    "Now let's look at the output.\n",
    "\n"
   ]
  },
  {
   "cell_type": "code",
   "execution_count": null,
   "metadata": {
    "collapsed": false,
    "jupyter": {
     "outputs_hidden": false
    }
   },
   "outputs": [],
   "source": [
    "for i, (ali, score) in enumerate(zip(aligned_tokens, alignment_scores)):\n",
    "    print(f\"{i:3d}:\\t{ali:2d} [{LABELS[ali]}], {score:.2f}\")"
   ]
  },
  {
   "cell_type": "markdown",
   "metadata": {},
   "source": [
    "<div class=\"alert alert-info\"><h4>Note</h4><p>The alignment is expressed in the frame cordinate of the emission,\n",
    "   which is different from the original waveform.</p></div>\n",
    "\n",
    "It contains blank tokens and repeated tokens. The following is the\n",
    "interpretation of the non-blank tokens.\n",
    "\n",
    "```\n",
    "31:     0 [-], 1.00\n",
    "32:     2 [i], 1.00  \"i\" starts and ends\n",
    "33:     0 [-], 1.00\n",
    "34:     0 [-], 1.00\n",
    "35:    15 [h], 1.00  \"h\" starts\n",
    "36:    15 [h], 0.93  \"h\" ends\n",
    "37:     1 [a], 1.00  \"a\" starts and ends\n",
    "38:     0 [-], 0.96\n",
    "39:     0 [-], 1.00\n",
    "40:     0 [-], 1.00\n",
    "41:    13 [d], 1.00  \"d\" starts and ends\n",
    "42:     0 [-], 1.00\n",
    "```\n",
    "<div class=\"alert alert-info\"><h4>Note</h4><p>When same token occured after blank tokens, it is not treated as\n",
    "   a repeat, but as a new occurrence.\n",
    "\n",
    "```\n",
    "a a a b -> a b\n",
    "a - - b -> a b\n",
    "a a - b -> a b\n",
    "a - a b -> a a b\n",
    "  ^^^       ^^^</p></div>\n",
    "```\n"
   ]
  },
  {
   "cell_type": "markdown",
   "metadata": {},
   "source": [
    "### Token-level alignments\n",
    "\n",
    "Next step is to resolve the repetation, so that each alignment does\n",
    "not depend on previous alignments.\n",
    ":py:func:`torchaudio.functional.merge_tokens` computes the\n",
    ":py:class:`~torchaudio.functional.TokenSpan` object, which represents\n",
    "which token from the transcript is present at what time span.\n",
    "\n"
   ]
  },
  {
   "cell_type": "code",
   "execution_count": null,
   "metadata": {
    "collapsed": false,
    "jupyter": {
     "outputs_hidden": false
    }
   },
   "outputs": [],
   "source": [
    "token_spans = F.merge_tokens(aligned_tokens, alignment_scores)\n",
    "\n",
    "print(\"Token\\tTime\\tScore\")\n",
    "for s in token_spans:\n",
    "    print(f\"{LABELS[s.token]}\\t[{s.start:3d}, {s.end:3d})\\t{s.score:.2f}\")"
   ]
  },
  {
   "cell_type": "markdown",
   "metadata": {},
   "source": [
    "### Word-level alignments\n",
    "\n",
    "Now let’s group the token-level alignments into word-level alignments.\n",
    "\n"
   ]
  },
  {
   "cell_type": "code",
   "execution_count": null,
   "metadata": {
    "collapsed": false,
    "jupyter": {
     "outputs_hidden": false
    }
   },
   "outputs": [],
   "source": [
    "def unflatten(list_, lengths):\n",
    "    assert len(list_) == sum(lengths)\n",
    "    i = 0\n",
    "    ret = []\n",
    "    for l in lengths:\n",
    "        ret.append(list_[i : i + l])\n",
    "        i += l\n",
    "    return ret\n",
    "\n",
    "\n",
    "word_spans = unflatten(token_spans, [len(word) for word in TRANSCRIPT])"
   ]
  },
  {
   "cell_type": "markdown",
   "metadata": {},
   "source": [
    "### Audio previews\n",
    "\n",
    "\n"
   ]
  },
  {
   "cell_type": "code",
   "execution_count": null,
   "metadata": {
    "collapsed": false,
    "jupyter": {
     "outputs_hidden": false
    }
   },
   "outputs": [],
   "source": [
    "# Compute average score weighted by the span length\n",
    "def _score(spans):\n",
    "    return sum(s.score * len(s) for s in spans) / sum(len(s) for s in spans)\n",
    "\n",
    "\n",
    "def preview_word(waveform, spans, num_frames, transcript, sample_rate=bundle.sample_rate):\n",
    "    ratio = waveform.size(1) / num_frames\n",
    "    x0 = int(ratio * spans[0].start)\n",
    "    x1 = int(ratio * spans[-1].end)\n",
    "    print(f\"{transcript} ({_score(spans):.2f}): {x0 / sample_rate:.3f} - {x1 / sample_rate:.3f} sec\")\n",
    "    segment = waveform[:, x0:x1]\n",
    "    return IPython.display.Audio(segment.numpy(), rate=sample_rate)\n",
    "\n",
    "\n",
    "num_frames = emission.size(1)"
   ]
  },
  {
   "cell_type": "code",
   "execution_count": null,
   "metadata": {
    "collapsed": false,
    "jupyter": {
     "outputs_hidden": false
    }
   },
   "outputs": [],
   "source": [
    "# Generate the audio for each segment\n",
    "print(TRANSCRIPT)\n",
    "IPython.display.Audio(SPEECH_FILE)"
   ]
  },
  {
   "cell_type": "code",
   "execution_count": null,
   "metadata": {
    "collapsed": false,
    "jupyter": {
     "outputs_hidden": false
    }
   },
   "outputs": [],
   "source": [
    "preview_word(waveform, word_spans[0], num_frames, TRANSCRIPT[0])"
   ]
  },
  {
   "cell_type": "code",
   "execution_count": null,
   "metadata": {
    "collapsed": false,
    "jupyter": {
     "outputs_hidden": false
    }
   },
   "outputs": [],
   "source": [
    "preview_word(waveform, word_spans[1], num_frames, TRANSCRIPT[1])"
   ]
  },
  {
   "cell_type": "code",
   "execution_count": null,
   "metadata": {
    "collapsed": false,
    "jupyter": {
     "outputs_hidden": false
    }
   },
   "outputs": [],
   "source": [
    "preview_word(waveform, word_spans[2], num_frames, TRANSCRIPT[2])"
   ]
  },
  {
   "cell_type": "code",
   "execution_count": null,
   "metadata": {
    "collapsed": false,
    "jupyter": {
     "outputs_hidden": false
    }
   },
   "outputs": [],
   "source": [
    "preview_word(waveform, word_spans[3], num_frames, TRANSCRIPT[3])"
   ]
  },
  {
   "cell_type": "code",
   "execution_count": null,
   "metadata": {
    "collapsed": false,
    "jupyter": {
     "outputs_hidden": false
    }
   },
   "outputs": [],
   "source": [
    "preview_word(waveform, word_spans[4], num_frames, TRANSCRIPT[4])"
   ]
  },
  {
   "cell_type": "code",
   "execution_count": null,
   "metadata": {
    "collapsed": false,
    "jupyter": {
     "outputs_hidden": false
    }
   },
   "outputs": [],
   "source": [
    "preview_word(waveform, word_spans[5], num_frames, TRANSCRIPT[5])"
   ]
  },
  {
   "cell_type": "code",
   "execution_count": null,
   "metadata": {
    "collapsed": false,
    "jupyter": {
     "outputs_hidden": false
    }
   },
   "outputs": [],
   "source": [
    "preview_word(waveform, word_spans[6], num_frames, TRANSCRIPT[6])"
   ]
  },
  {
   "cell_type": "code",
   "execution_count": null,
   "metadata": {
    "collapsed": false,
    "jupyter": {
     "outputs_hidden": false
    }
   },
   "outputs": [],
   "source": [
    "preview_word(waveform, word_spans[7], num_frames, TRANSCRIPT[7])"
   ]
  },
  {
   "cell_type": "code",
   "execution_count": null,
   "metadata": {
    "collapsed": false,
    "jupyter": {
     "outputs_hidden": false
    }
   },
   "outputs": [],
   "source": [
    "preview_word(waveform, word_spans[8], num_frames, TRANSCRIPT[8])"
   ]
  },
  {
   "cell_type": "markdown",
   "metadata": {},
   "source": [
    "### Visualization\n",
    "\n",
    "Now let's look at the alignment result and segment the original\n",
    "speech into words.\n",
    "\n"
   ]
  },
  {
   "cell_type": "code",
   "execution_count": null,
   "metadata": {
    "collapsed": false,
    "jupyter": {
     "outputs_hidden": false
    }
   },
   "outputs": [],
   "source": [
    "def plot_alignments(waveform, token_spans, emission, transcript, sample_rate=bundle.sample_rate):\n",
    "    ratio = waveform.size(1) / emission.size(1) / sample_rate\n",
    "\n",
    "    fig, axes = plt.subplots(2, 1)\n",
    "    axes[0].imshow(emission[0].detach().cpu().T, aspect=\"auto\")\n",
    "    axes[0].set_title(\"Emission\")\n",
    "    axes[0].set_xticks([])\n",
    "\n",
    "    axes[1].specgram(waveform[0], Fs=sample_rate)\n",
    "    for t_spans, chars in zip(token_spans, transcript):\n",
    "        t0, t1 = t_spans[0].start + 0.1, t_spans[-1].end - 0.1\n",
    "        axes[0].axvspan(t0 - 0.5, t1 - 0.5, facecolor=\"None\", hatch=\"/\", edgecolor=\"white\")\n",
    "        axes[1].axvspan(ratio * t0, ratio * t1, facecolor=\"None\", hatch=\"/\", edgecolor=\"white\")\n",
    "        axes[1].annotate(f\"{_score(t_spans):.2f}\", (ratio * t0, sample_rate * 0.51), annotation_clip=False)\n",
    "\n",
    "        for span, char in zip(t_spans, chars):\n",
    "            t0 = span.start * ratio\n",
    "            axes[1].annotate(char, (t0, sample_rate * 0.55), annotation_clip=False)\n",
    "\n",
    "    axes[1].set_xlabel(\"time [second]\")\n",
    "    axes[1].set_xlim([0, None])\n",
    "    fig.tight_layout()"
   ]
  },
  {
   "cell_type": "code",
   "execution_count": null,
   "metadata": {
    "collapsed": false,
    "jupyter": {
     "outputs_hidden": false
    }
   },
   "outputs": [],
   "source": [
    "plot_alignments(waveform, word_spans, emission, TRANSCRIPT)"
   ]
  },
  {
   "cell_type": "markdown",
   "metadata": {},
   "source": [
    "### Inconsistent treatment of ``blank`` token\n",
    "\n",
    "When splitting the token-level alignments into words, you will\n",
    "notice that some blank tokens are treated differently, and this makes\n",
    "the interpretation of the result somehwat ambigious.\n",
    "\n",
    "This is easy to see when we plot the scores. The following figure\n",
    "shows word regions and non-word regions, with the frame-level scores\n",
    "of non-blank tokens.\n",
    "\n"
   ]
  },
  {
   "cell_type": "code",
   "execution_count": null,
   "metadata": {
    "collapsed": false,
    "jupyter": {
     "outputs_hidden": false
    }
   },
   "outputs": [],
   "source": [
    "def plot_scores(word_spans, scores):\n",
    "    fig, ax = plt.subplots()\n",
    "    span_xs, span_hs = [], []\n",
    "    ax.axvspan(word_spans[0][0].start - 0.05, word_spans[-1][-1].end + 0.05, facecolor=\"paleturquoise\", edgecolor=\"none\", zorder=-1)\n",
    "    for t_span in word_spans:\n",
    "        for span in t_span:\n",
    "            for t in range(span.start, span.end):\n",
    "                span_xs.append(t + 0.5)\n",
    "                span_hs.append(scores[t].item())\n",
    "            ax.annotate(LABELS[span.token], (span.start, -0.07))\n",
    "        ax.axvspan(t_span[0].start - 0.05, t_span[-1].end + 0.05, facecolor=\"mistyrose\", edgecolor=\"none\", zorder=-1)\n",
    "    ax.bar(span_xs, span_hs, color=\"lightsalmon\", edgecolor=\"coral\")\n",
    "    ax.set_title(\"Frame-level scores and word segments\")\n",
    "    ax.set_ylim(-0.1, None)\n",
    "    ax.grid(True, axis=\"y\")\n",
    "    ax.axhline(0, color=\"black\")\n",
    "    fig.tight_layout()\n",
    "\n",
    "\n",
    "plot_scores(word_spans, alignment_scores)"
   ]
  },
  {
   "cell_type": "markdown",
   "metadata": {},
   "source": [
    "In this plot, the blank tokens are those highlighted area without\n",
    "vertical bar.\n",
    "You can see that there are blank tokens which are interpreted as\n",
    "part of a word (highlighted red), while the others (highlighted blue)\n",
    "are not.\n",
    "\n",
    "One reason for this is because the model was trained without a\n",
    "label for the word boundary. The blank tokens are treated not just\n",
    "as repeatation but also as silence between words.\n",
    "\n",
    "But then, a question arises. Should frames immediately after or\n",
    "near the end of a word be silent or repeat?\n",
    "\n",
    "In the above example, if you go back to the previous plot of\n",
    "spectrogram and word regions, you see that after \"y\" in \"curiosity\",\n",
    "there is still some activities in multiple frequency buckets.\n",
    "\n",
    "Would it be more accurate if that frame was included in the word?\n",
    "\n",
    "Unfortunately, CTC does not provide a comprehensive solution to this.\n",
    "Models trained with CTC are known to exhibit \"peaky\" response,\n",
    "that is, they tend to spike for an aoccurance of a label, but the\n",
    "spike does not last for the duration of the label.\n",
    "(Note: Pre-trained Wav2Vec2 models tend to spike at the beginning of\n",
    "label occurances, but this not always the case.)\n",
    "\n",
    ":cite:`zeyer2021does` has in-depth alanysis on the peaky behavior of\n",
    "CTC.\n",
    "We encourage those who are interested understanding more to refer\n",
    "to the paper.\n",
    "The following is a quote from the paper, which is the exact issue we\n",
    "are facing here.\n",
    "\n",
    "   *Peaky behavior can be problematic in certain cases,*\n",
    "   *e.g. when an application requires to not use the blank label,*\n",
    "   *e.g. to get meaningful time accurate alignments of phonemes*\n",
    "   *to a transcription.*\n",
    "\n"
   ]
  },
  {
   "cell_type": "markdown",
   "metadata": {},
   "source": [
    "## Advanced: Handling transcripts with ``<star>`` token\n",
    "\n",
    "Now let’s look at when the transcript is partially missing, how can we\n",
    "improve alignment quality using the ``<star>`` token, which is capable of modeling\n",
    "any token.\n",
    "\n",
    "Here we use the same English example as used above. But we remove the\n",
    "beginning text ``“i had that curiosity beside me at”`` from the transcript.\n",
    "Aligning audio with such transcript results in wrong alignments of the\n",
    "existing word “this”. However, this issue can be mitigated by using the\n",
    "``<star>`` token to model the missing text.\n",
    "\n",
    "\n"
   ]
  },
  {
   "cell_type": "markdown",
   "metadata": {},
   "source": [
    "First, we extend the dictionary to include the ``<star>`` token.\n",
    "\n"
   ]
  },
  {
   "cell_type": "code",
   "execution_count": null,
   "metadata": {
    "collapsed": false,
    "jupyter": {
     "outputs_hidden": false
    }
   },
   "outputs": [],
   "source": [
    "DICTIONARY[\"*\"] = len(DICTIONARY)"
   ]
  },
  {
   "cell_type": "markdown",
   "metadata": {},
   "source": [
    "Next, we extend the emission tensor with the extra dimension\n",
    "corresponding to the ``<star>`` token.\n",
    "\n",
    "\n"
   ]
  },
  {
   "cell_type": "code",
   "execution_count": null,
   "metadata": {
    "collapsed": false,
    "jupyter": {
     "outputs_hidden": false
    }
   },
   "outputs": [],
   "source": [
    "star_dim = torch.zeros((1, emission.size(1), 1), device=emission.device, dtype=emission.dtype)\n",
    "emission = torch.cat((emission, star_dim), 2)\n",
    "\n",
    "assert len(DICTIONARY) == emission.shape[2]\n",
    "\n",
    "plot_emission(emission[0])"
   ]
  },
  {
   "cell_type": "markdown",
   "metadata": {},
   "source": [
    "The following function combines all the processes, and compute\n",
    "word segments from emission in one-go.\n",
    "\n"
   ]
  },
  {
   "cell_type": "code",
   "execution_count": null,
   "metadata": {
    "collapsed": false,
    "jupyter": {
     "outputs_hidden": false
    }
   },
   "outputs": [],
   "source": [
    "def compute_alignments(emission, transcript, dictionary):\n",
    "    tokens = [dictionary[char] for word in transcript for char in word]\n",
    "    alignment, scores = align(emission, tokens)\n",
    "    token_spans = F.merge_tokens(alignment, scores)\n",
    "    word_spans = unflatten(token_spans, [len(word) for word in transcript])\n",
    "    return word_spans"
   ]
  },
  {
   "cell_type": "markdown",
   "metadata": {},
   "source": [
    "### Full Transcript\n",
    "\n"
   ]
  },
  {
   "cell_type": "code",
   "execution_count": null,
   "metadata": {
    "collapsed": false,
    "jupyter": {
     "outputs_hidden": false
    }
   },
   "outputs": [],
   "source": [
    "word_spans = compute_alignments(emission, TRANSCRIPT, DICTIONARY)\n",
    "plot_alignments(waveform, word_spans, emission, TRANSCRIPT)"
   ]
  },
  {
   "cell_type": "markdown",
   "metadata": {},
   "source": [
    "### Partial Transcript with ``<star>`` token\n",
    "\n",
    "Now we replace the first part of the transcript with the ``<star>`` token.\n",
    "\n"
   ]
  },
  {
   "cell_type": "code",
   "execution_count": null,
   "metadata": {
    "collapsed": false,
    "jupyter": {
     "outputs_hidden": false
    }
   },
   "outputs": [],
   "source": [
    "transcript = \"* this moment\".split()\n",
    "word_spans = compute_alignments(emission, transcript, DICTIONARY)\n",
    "plot_alignments(waveform, word_spans, emission, transcript)"
   ]
  },
  {
   "cell_type": "code",
   "execution_count": null,
   "metadata": {
    "collapsed": false,
    "jupyter": {
     "outputs_hidden": false
    }
   },
   "outputs": [],
   "source": [
    "preview_word(waveform, word_spans[0], num_frames, transcript[0])"
   ]
  },
  {
   "cell_type": "code",
   "execution_count": null,
   "metadata": {
    "collapsed": false,
    "jupyter": {
     "outputs_hidden": false
    }
   },
   "outputs": [],
   "source": [
    "preview_word(waveform, word_spans[1], num_frames, transcript[1])"
   ]
  },
  {
   "cell_type": "code",
   "execution_count": null,
   "metadata": {
    "collapsed": false,
    "jupyter": {
     "outputs_hidden": false
    }
   },
   "outputs": [],
   "source": [
    "preview_word(waveform, word_spans[2], num_frames, transcript[2])"
   ]
  },
  {
   "cell_type": "markdown",
   "metadata": {},
   "source": [
    "### Partial Transcript without ``<star>`` token\n",
    "\n",
    "As a comparison, the following aligns the partial transcript\n",
    "without using ``<star>`` token.\n",
    "It demonstrates the effect of ``<star>`` token for dealing with deletion errors.\n",
    "\n"
   ]
  },
  {
   "cell_type": "code",
   "execution_count": null,
   "metadata": {
    "collapsed": false,
    "jupyter": {
     "outputs_hidden": false
    }
   },
   "outputs": [],
   "source": [
    "transcript = \"this moment\".split()\n",
    "word_spans = compute_alignments(emission, transcript, DICTIONARY)\n",
    "plot_alignments(waveform, word_spans, emission, transcript)"
   ]
  },
  {
   "cell_type": "markdown",
   "metadata": {},
   "source": [
    "## Conclusion\n",
    "\n",
    "In this tutorial, we looked at how to use torchaudio’s forced alignment\n",
    "API to align and segment speech files, and demonstrated one advanced usage:\n",
    "How introducing a ``<star>`` token could improve alignment accuracy when\n",
    "transcription errors exist.\n",
    "\n",
    "\n"
   ]
  },
  {
   "cell_type": "markdown",
   "metadata": {},
   "source": [
    "## Acknowledgement\n",
    "\n",
    "Thanks to [Vineel Pratap](vineelkpratap@meta.com)_ and [Zhaoheng\n",
    "Ni](zni@meta.com)_ for developing and open-sourcing the\n",
    "forced aligner API.\n",
    "\n"
   ]
  }
 ],
 "metadata": {
  "kernelspec": {
   "display_name": "Python 3 (ipykernel)",
   "language": "python",
   "name": "python3"
  },
  "language_info": {
   "codemirror_mode": {
    "name": "ipython",
    "version": 3
   },
   "file_extension": ".py",
   "mimetype": "text/x-python",
   "name": "python",
   "nbconvert_exporter": "python",
   "pygments_lexer": "ipython3",
   "version": "3.10.12"
  }
 },
 "nbformat": 4,
 "nbformat_minor": 4
}
